{
 "cells": [
  {
   "cell_type": "markdown",
   "metadata": {},
   "source": [
    "# 暗号通貨間の相関関係の分析\n",
    "\n",
    "ビットコイン、イーサリアム、リップル、ライトコインの対米ドルの相関関係を調査した。\n",
    "\n",
    "データは[Cryptocurrency Market Capitalizations](https://coinmarketcap.com/)のデータを使用した。"
   ]
  },
  {
   "cell_type": "code",
   "execution_count": 2,
   "metadata": {},
   "outputs": [],
   "source": [
    "import requests\n",
    "from datetime import datetime\n",
    "import pandas as pd\n",
    "\n",
    "\n",
    "def fetch_list(coin_type):\n",
    "    # Cryptocurrency Market Capitalizations (https://coinmarketcap.com/) から拝借\n",
    "    r = requests.get('https://graphs.coinmarketcap.com/currencies/%s/' % coin_type)\n",
    "    data = r.json()\n",
    "    data = data['price_usd'][0:-1]\n",
    "\n",
    "    arr = []\n",
    "    for d in data:\n",
    "        # コインによって微妙に取得時刻が違うがそのずれは無視して、日付情報にしてしまう。\n",
    "        date = datetime.fromtimestamp(int(d[0]) / 1000).date()\n",
    "        value = d[1]\n",
    "        arr.append({\"date\": date, \"value\": value})\n",
    "    result = pd.DataFrame(index=[t[\"date\"] for t in arr])\n",
    "    result[coin_type] = [t[\"value\"] for t in arr]\n",
    "    return result\n",
    "\n",
    "data_frames = []\n",
    "coins = [\"bitcoin\", \"ethereum\", \"ripple\", \"litecoin\"]\n",
    "for coin in coins:\n",
    "    data_frames.append(fetch_list(coin))\n",
    "\n",
    "data = pd.concat(data_frames, axis=1, join='inner')"
   ]
  },
  {
   "cell_type": "code",
   "execution_count": 9,
   "metadata": {},
   "outputs": [
    {
     "data": {
      "text/plain": [
       "datetime.date(2015, 8, 7)"
      ]
     },
     "execution_count": 9,
     "metadata": {},
     "output_type": "execute_result"
    }
   ],
   "source": [
    "data[:1].index[0]"
   ]
  },
  {
   "cell_type": "code",
   "execution_count": 10,
   "metadata": {},
   "outputs": [
    {
     "data": {
      "text/plain": [
       "datetime.date(2017, 10, 21)"
      ]
     },
     "execution_count": 10,
     "metadata": {},
     "output_type": "execute_result"
    }
   ],
   "source": [
    "data[-1:].index[0]"
   ]
  },
  {
   "cell_type": "markdown",
   "metadata": {},
   "source": [
    "### 全データによる相関関係\n",
    "\n",
    "* 2015/8/7 ~ 2017/10/21(現在)"
   ]
  },
  {
   "cell_type": "code",
   "execution_count": 37,
   "metadata": {},
   "outputs": [
    {
     "data": {
      "text/html": [
       "<div>\n",
       "<style>\n",
       "    .dataframe thead tr:only-child th {\n",
       "        text-align: right;\n",
       "    }\n",
       "\n",
       "    .dataframe thead th {\n",
       "        text-align: left;\n",
       "    }\n",
       "\n",
       "    .dataframe tbody tr th {\n",
       "        vertical-align: top;\n",
       "    }\n",
       "</style>\n",
       "<table border=\"1\" class=\"dataframe\">\n",
       "  <thead>\n",
       "    <tr style=\"text-align: right;\">\n",
       "      <th></th>\n",
       "      <th>bitcoin</th>\n",
       "      <th>ethereum</th>\n",
       "      <th>ripple</th>\n",
       "      <th>litecoin</th>\n",
       "    </tr>\n",
       "  </thead>\n",
       "  <tbody>\n",
       "    <tr>\n",
       "      <th>bitcoin</th>\n",
       "      <td>1.000000</td>\n",
       "      <td>0.942633</td>\n",
       "      <td>0.847594</td>\n",
       "      <td>0.952555</td>\n",
       "    </tr>\n",
       "    <tr>\n",
       "      <th>ethereum</th>\n",
       "      <td>0.942633</td>\n",
       "      <td>1.000000</td>\n",
       "      <td>0.917577</td>\n",
       "      <td>0.960823</td>\n",
       "    </tr>\n",
       "    <tr>\n",
       "      <th>ripple</th>\n",
       "      <td>0.847594</td>\n",
       "      <td>0.917577</td>\n",
       "      <td>1.000000</td>\n",
       "      <td>0.889792</td>\n",
       "    </tr>\n",
       "    <tr>\n",
       "      <th>litecoin</th>\n",
       "      <td>0.952555</td>\n",
       "      <td>0.960823</td>\n",
       "      <td>0.889792</td>\n",
       "      <td>1.000000</td>\n",
       "    </tr>\n",
       "  </tbody>\n",
       "</table>\n",
       "</div>"
      ],
      "text/plain": [
       "           bitcoin  ethereum    ripple  litecoin\n",
       "bitcoin   1.000000  0.942633  0.847594  0.952555\n",
       "ethereum  0.942633  1.000000  0.917577  0.960823\n",
       "ripple    0.847594  0.917577  1.000000  0.889792\n",
       "litecoin  0.952555  0.960823  0.889792  1.000000"
      ]
     },
     "execution_count": 37,
     "metadata": {},
     "output_type": "execute_result"
    }
   ],
   "source": [
    "data.corr()"
   ]
  },
  {
   "cell_type": "markdown",
   "metadata": {},
   "source": [
    "### 1年間の相関関係"
   ]
  },
  {
   "cell_type": "code",
   "execution_count": 30,
   "metadata": {},
   "outputs": [
    {
     "data": {
      "text/html": [
       "<div>\n",
       "<style>\n",
       "    .dataframe thead tr:only-child th {\n",
       "        text-align: right;\n",
       "    }\n",
       "\n",
       "    .dataframe thead th {\n",
       "        text-align: left;\n",
       "    }\n",
       "\n",
       "    .dataframe tbody tr th {\n",
       "        vertical-align: top;\n",
       "    }\n",
       "</style>\n",
       "<table border=\"1\" class=\"dataframe\">\n",
       "  <thead>\n",
       "    <tr style=\"text-align: right;\">\n",
       "      <th></th>\n",
       "      <th>bitcoin</th>\n",
       "      <th>ethereum</th>\n",
       "      <th>ripple</th>\n",
       "      <th>litecoin</th>\n",
       "    </tr>\n",
       "  </thead>\n",
       "  <tbody>\n",
       "    <tr>\n",
       "      <th>bitcoin</th>\n",
       "      <td>1.000000</td>\n",
       "      <td>0.917400</td>\n",
       "      <td>0.772459</td>\n",
       "      <td>0.937823</td>\n",
       "    </tr>\n",
       "    <tr>\n",
       "      <th>ethereum</th>\n",
       "      <td>0.917400</td>\n",
       "      <td>1.000000</td>\n",
       "      <td>0.879420</td>\n",
       "      <td>0.942978</td>\n",
       "    </tr>\n",
       "    <tr>\n",
       "      <th>ripple</th>\n",
       "      <td>0.772459</td>\n",
       "      <td>0.879420</td>\n",
       "      <td>1.000000</td>\n",
       "      <td>0.839592</td>\n",
       "    </tr>\n",
       "    <tr>\n",
       "      <th>litecoin</th>\n",
       "      <td>0.937823</td>\n",
       "      <td>0.942978</td>\n",
       "      <td>0.839592</td>\n",
       "      <td>1.000000</td>\n",
       "    </tr>\n",
       "  </tbody>\n",
       "</table>\n",
       "</div>"
      ],
      "text/plain": [
       "           bitcoin  ethereum    ripple  litecoin\n",
       "bitcoin   1.000000  0.917400  0.772459  0.937823\n",
       "ethereum  0.917400  1.000000  0.879420  0.942978\n",
       "ripple    0.772459  0.879420  1.000000  0.839592\n",
       "litecoin  0.937823  0.942978  0.839592  1.000000"
      ]
     },
     "execution_count": 30,
     "metadata": {},
     "output_type": "execute_result"
    }
   ],
   "source": [
    "# 1年分 (欠損値があるためか、363になっている。)\n",
    "data[-363:].corr()"
   ]
  },
  {
   "cell_type": "markdown",
   "metadata": {},
   "source": [
    "### 1ヶ月の相関関係"
   ]
  },
  {
   "cell_type": "code",
   "execution_count": 32,
   "metadata": {},
   "outputs": [
    {
     "data": {
      "text/html": [
       "<div>\n",
       "<style>\n",
       "    .dataframe thead tr:only-child th {\n",
       "        text-align: right;\n",
       "    }\n",
       "\n",
       "    .dataframe thead th {\n",
       "        text-align: left;\n",
       "    }\n",
       "\n",
       "    .dataframe tbody tr th {\n",
       "        vertical-align: top;\n",
       "    }\n",
       "</style>\n",
       "<table border=\"1\" class=\"dataframe\">\n",
       "  <thead>\n",
       "    <tr style=\"text-align: right;\">\n",
       "      <th></th>\n",
       "      <th>bitcoin</th>\n",
       "      <th>ethereum</th>\n",
       "      <th>ripple</th>\n",
       "      <th>litecoin</th>\n",
       "    </tr>\n",
       "  </thead>\n",
       "  <tbody>\n",
       "    <tr>\n",
       "      <th>bitcoin</th>\n",
       "      <td>1.000000</td>\n",
       "      <td>0.790301</td>\n",
       "      <td>0.666455</td>\n",
       "      <td>0.818199</td>\n",
       "    </tr>\n",
       "    <tr>\n",
       "      <th>ethereum</th>\n",
       "      <td>0.790301</td>\n",
       "      <td>1.000000</td>\n",
       "      <td>0.746798</td>\n",
       "      <td>0.839676</td>\n",
       "    </tr>\n",
       "    <tr>\n",
       "      <th>ripple</th>\n",
       "      <td>0.666455</td>\n",
       "      <td>0.746798</td>\n",
       "      <td>1.000000</td>\n",
       "      <td>0.482839</td>\n",
       "    </tr>\n",
       "    <tr>\n",
       "      <th>litecoin</th>\n",
       "      <td>0.818199</td>\n",
       "      <td>0.839676</td>\n",
       "      <td>0.482839</td>\n",
       "      <td>1.000000</td>\n",
       "    </tr>\n",
       "  </tbody>\n",
       "</table>\n",
       "</div>"
      ],
      "text/plain": [
       "           bitcoin  ethereum    ripple  litecoin\n",
       "bitcoin   1.000000  0.790301  0.666455  0.818199\n",
       "ethereum  0.790301  1.000000  0.746798  0.839676\n",
       "ripple    0.666455  0.746798  1.000000  0.482839\n",
       "litecoin  0.818199  0.839676  0.482839  1.000000"
      ]
     },
     "execution_count": 32,
     "metadata": {},
     "output_type": "execute_result"
    }
   ],
   "source": [
    "data[-31:].corr()"
   ]
  },
  {
   "cell_type": "markdown",
   "metadata": {},
   "source": [
    "### 1週間の相関関係"
   ]
  },
  {
   "cell_type": "code",
   "execution_count": 33,
   "metadata": {},
   "outputs": [
    {
     "data": {
      "text/html": [
       "<div>\n",
       "<style>\n",
       "    .dataframe thead tr:only-child th {\n",
       "        text-align: right;\n",
       "    }\n",
       "\n",
       "    .dataframe thead th {\n",
       "        text-align: left;\n",
       "    }\n",
       "\n",
       "    .dataframe tbody tr th {\n",
       "        vertical-align: top;\n",
       "    }\n",
       "</style>\n",
       "<table border=\"1\" class=\"dataframe\">\n",
       "  <thead>\n",
       "    <tr style=\"text-align: right;\">\n",
       "      <th></th>\n",
       "      <th>bitcoin</th>\n",
       "      <th>ethereum</th>\n",
       "      <th>ripple</th>\n",
       "      <th>litecoin</th>\n",
       "    </tr>\n",
       "  </thead>\n",
       "  <tbody>\n",
       "    <tr>\n",
       "      <th>bitcoin</th>\n",
       "      <td>1.000000</td>\n",
       "      <td>-0.131234</td>\n",
       "      <td>-0.172297</td>\n",
       "      <td>0.285506</td>\n",
       "    </tr>\n",
       "    <tr>\n",
       "      <th>ethereum</th>\n",
       "      <td>-0.131234</td>\n",
       "      <td>1.000000</td>\n",
       "      <td>0.956172</td>\n",
       "      <td>0.846885</td>\n",
       "    </tr>\n",
       "    <tr>\n",
       "      <th>ripple</th>\n",
       "      <td>-0.172297</td>\n",
       "      <td>0.956172</td>\n",
       "      <td>1.000000</td>\n",
       "      <td>0.711294</td>\n",
       "    </tr>\n",
       "    <tr>\n",
       "      <th>litecoin</th>\n",
       "      <td>0.285506</td>\n",
       "      <td>0.846885</td>\n",
       "      <td>0.711294</td>\n",
       "      <td>1.000000</td>\n",
       "    </tr>\n",
       "  </tbody>\n",
       "</table>\n",
       "</div>"
      ],
      "text/plain": [
       "           bitcoin  ethereum    ripple  litecoin\n",
       "bitcoin   1.000000 -0.131234 -0.172297  0.285506\n",
       "ethereum -0.131234  1.000000  0.956172  0.846885\n",
       "ripple   -0.172297  0.956172  1.000000  0.711294\n",
       "litecoin  0.285506  0.846885  0.711294  1.000000"
      ]
     },
     "execution_count": 33,
     "metadata": {},
     "output_type": "execute_result"
    }
   ],
   "source": [
    "data[-7:].corr()"
   ]
  }
 ],
 "metadata": {
  "kernelspec": {
   "display_name": "Python 3",
   "language": "python",
   "name": "python3"
  },
  "language_info": {
   "codemirror_mode": {
    "name": "ipython",
    "version": 3
   },
   "file_extension": ".py",
   "mimetype": "text/x-python",
   "name": "python",
   "nbconvert_exporter": "python",
   "pygments_lexer": "ipython3",
   "version": "3.6.0"
  }
 },
 "nbformat": 4,
 "nbformat_minor": 2
}
